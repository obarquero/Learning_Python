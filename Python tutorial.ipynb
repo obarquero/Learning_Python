{
 "metadata": {
  "name": ""
 },
 "nbformat": 3,
 "nbformat_minor": 0,
 "worksheets": [
  {
   "cells": [
    {
     "cell_type": "heading",
     "level": 1,
     "metadata": {},
     "source": [
      "Python Tutorial "
     ]
    },
    {
     "cell_type": "markdown",
     "metadata": {},
     "source": [
      "##Authors\n",
      "\n",
      "###\u00d3scar Barquero P\u00e9rez (<oscar.barquero@urjc.es>) y Rebeca Goya Esteban (<rebeca.goyaesteban@urjc.es>)\n",
      "\n",
      "<a rel=\"license\" href=\"http://creativecommons.org/licenses/by-nc-sa/4.0/\"><img alt=\"Licencia de Creative Commons\" style=\"border-width:0\" src=\"https://i.creativecommons.org/l/by-nc-sa/4.0/88x31.png\" /></a><br />Este obra est\u00e1 bajo una <a rel=\"license\" href=\"http://creativecommons.org/licenses/by-nc-sa/4.0/\">licencia de Creative Commons Reconocimiento-NoComercial-CompartirIgual 4.0 Internacional</a>. "
     ]
    },
    {
     "cell_type": "heading",
     "level": 2,
     "metadata": {},
     "source": [
      "Let's start easily"
     ]
    },
    {
     "cell_type": "markdown",
     "metadata": {},
     "source": [
      "Some figures to illustrate why use python instead other programming languages\n",
      "\n",
      "<img src=\"files/files/figs/javapython.png\">"
     ]
    },
    {
     "cell_type": "markdown",
     "metadata": {},
     "source": [
      "Let's try another one. **Why use Python instead of Java, or C or ...?**\n",
      "\n",
      "<img src=\"files/files/figs/python_vs_all.jpg\" width=\"800\">\n",
      "\n"
     ]
    },
    {
     "cell_type": "heading",
     "level": 2,
     "metadata": {},
     "source": [
      "So, now which editor use. "
     ]
    },
    {
     "cell_type": "markdown",
     "metadata": {},
     "source": [
      "Well, I prefer **Spyder**, because it is basically like Matlab editor and that (the editor) I love from Matlab\n",
      "\n",
      "<img src=\"files/files/figs/spyder.png\" width = \"800\">"
     ]
    },
    {
     "cell_type": "markdown",
     "metadata": {},
     "source": [
      "Or perhaps, some of you prefer emacs <img src=\"files/files/figs/emacs.png\">, or even if you are real programmers you prefere the wings of a butterfly <img src=\"files/files/figs/lorenz.png\" width = 100, height = 100>.\n"
     ]
    },
    {
     "cell_type": "markdown",
     "metadata": {},
     "source": [
      "Maybe this is the last joke\n",
      "\n",
      "<img src=\"files/files/figs/real_programmers.png\">"
     ]
    },
    {
     "cell_type": "heading",
     "level": 2,
     "metadata": {},
     "source": [
      "Let's Begging. What is Python?"
     ]
    },
    {
     "cell_type": "markdown",
     "metadata": {},
     "source": [
      "[Python](http://www.python.org/) is a modern, general-purpose, object-oriented, high-level programming language.\n",
      "\n",
      "General characteristics of Python:\n",
      "\n",
      "* **clean and simple language:** Easy-to-read and intuitive code, easy-to-learn minimalistic syntax, maintainability scales well with size of projects.\n",
      "* **expressive language:** Fewer lines of code, fewer bugs, easier to maintain.\n",
      "\n",
      "Technical details:\n",
      "\n",
      "* **dynamically typed:** No need to define the type of variables, function arguments or return types.\n",
      "* **automatic memory management:** No need to explicitly allocate and deallocate memory for variables and data arrays. No memory leak bugs. \n",
      "* **interpreted:** No need to compile the code. The Python interpreter reads and executes the python code directly.\n",
      "\n",
      "Advantages:\n",
      "\n",
      "* The main advantage is ease of programming, minimizing the time required to develop, debug and maintain the code.\n",
      "* Well designed language that encourage many good programming practices:\n",
      " * Modular and object-oriented programming, good system for packaging and re-use of code. This often results in more transparent, maintainable and bug-free code.\n",
      " * Documentation tightly integrated with the code.\n",
      "* A large standard library, and a large collection of add-on packages.\n",
      "\n",
      "Disadvantages:\n",
      "\n",
      "* Since Python is an interpreted and dynamically typed programming language, the execution of python code can be slow compared to compiled statically typed programming languages, such as C and Fortran. \n",
      "* Somewhat decentralized, with different environment, packages and documentation spread out at different places. Can make it harder to get started.\n",
      "\n",
      "[ref: https://raw.github.com/jrjohansson/scientific-python-lectures/master/Lecture-0-Scientific-Computing-with-Python.ipynb]"
     ]
    },
    {
     "cell_type": "heading",
     "level": 2,
     "metadata": {},
     "source": [
      "How to start?"
     ]
    },
    {
     "cell_type": "markdown",
     "metadata": {},
     "source": [
      "The standard way to use the Python programming language is to use the Python interpreter to run python code. The python interpreter is a program that read and execute the python code in files passed to it as arguments. At the command prompt, the command ``python`` is used to invoke the Python interpreter.\n",
      "\n",
      "For example, to run a file ``my-program.py`` that contains python code from the command prompt, use::\n",
      "\n",
      "    $ python my-program.py\n",
      "\n",
      "We can also start the interpreter by simply typing ``python`` at the command line, and interactively type python code into the interpreter. \n",
      "\n",
      "<!-- <img src=\"files/images/python-screenshot.jpg\" width=\"600\"> -->\n",
      "<img src=\"https://raw.github.com/jrjohansson/scientific-python-lectures/master/images/python-screenshot.jpg\" width=\"600\">\n",
      "\n",
      "\n",
      "This is often how we want to work when developing scientific applications, or when doing small calculations. But the standard python interpreter is not very convenient for this kind of work, due to a number of limitations.\n",
      "\n",
      "Or **ipython** \n",
      "\n",
      "IPython is an interactive shell that addresses the limitation of the standard python interpreter, and it is a work-horse for scientific use of python. It provides an interactive prompt to the python interpreter with a greatly improved user-friendliness.\n",
      "\n",
      "<!-- <img src=\"files/images/ipython-screenshot.jpg\" width=\"600\"> -->\n",
      "<img src=\"https://raw.github.com/jrjohansson/scientific-python-lectures/master/images/ipython-screenshot.jpg\" width=\"600\">\n",
      "\n",
      "Some of the many useful features of IPython includes:\n",
      "\n",
      "* Command history, which can be browsed with the up and down arrows on the keyboard.\n",
      "* Tab auto-completion.\n",
      "* In-line editing of code.\n",
      "* Object introspection, and automatic extract of documentation strings from python objects like classes and functions.\n",
      "* Good interaction with operating system shell.\n",
      "* Support for multiple parallel back-end processes, that can run on computing clusters or cloud services like Amazon EE2.\n",
      "\n",
      "Or even better, spyder\n",
      "\n",
      "[Spyder](http://code.google.com/p/spyderlib/) is a MATLAB-like IDE for scientific computing with python. It has the many advantages of a traditional IDE environment, for example that everything from code editing, execution and debugging is carried out in a single environment, and work on different calculations can be organized as projects in the IDE environment.\n",
      "\n",
      "<!-- <img src=\"files/images/spyder-screenshot.jpg\" width=\"800\"> -->\n",
      "<img src=\"https://raw.github.com/jrjohansson/scientific-python-lectures/master/images/spyder-screenshot.jpg\" width=\"800\">\n",
      "\n",
      "Some advantages of Spyder:\n",
      "\n",
      "* Powerful code editor, with syntax high-lighting, dynamic code introspection and integration with the python debugger.\n",
      "* Variable explorer, IPython command prompt.\n",
      "* Integrated documentation and help."
     ]
    }
   ],
   "metadata": {}
  }
 ]
}