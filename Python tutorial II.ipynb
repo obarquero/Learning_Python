{
 "metadata": {
  "name": ""
 },
 "nbformat": 3,
 "nbformat_minor": 0,
 "worksheets": [
  {
   "cells": [
    {
     "cell_type": "heading",
     "level": 2,
     "metadata": {},
     "source": [
      "\"Hello World\" in Python"
     ]
    },
    {
     "cell_type": "markdown",
     "metadata": {},
     "source": [
      "Usually, the first program in every course is \"hello world\". Anyone can guess how to do it?"
     ]
    },
    {
     "cell_type": "code",
     "collapsed": false,
     "input": [
      "print \"hello world\""
     ],
     "language": "python",
     "metadata": {},
     "outputs": [
      {
       "output_type": "stream",
       "stream": "stdout",
       "text": [
        "hello world\n"
       ]
      }
     ],
     "prompt_number": 1
    },
    {
     "cell_type": "markdown",
     "metadata": {},
     "source": [
      "\"[Home](http://127.0.0.1:8888/824ab99d-5f09-4c64-8959-b65faa4939ea) | [Next: Variables, Strings, and Numbers](http://127.0.0.1:8888/f17aeb7d-e303-4fdb-8d70-f6d9ff95f462)"
     ]
    }
   ],
   "metadata": {}
  }
 ]
}