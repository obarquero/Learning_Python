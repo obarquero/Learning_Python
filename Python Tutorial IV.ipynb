{
 "metadata": {
  "name": ""
 },
 "nbformat": 3,
 "nbformat_minor": 0,
 "worksheets": [
  {
   "cells": [
    {
     "cell_type": "heading",
     "level": 1,
     "metadata": {},
     "source": [
      "Lists and Tuples and Dictionaries"
     ]
    },
    {
     "cell_type": "heading",
     "level": 2,
     "metadata": {},
     "source": [
      "List"
     ]
    },
    {
     "cell_type": "heading",
     "level": 2,
     "metadata": {},
     "source": [
      "A list is a collection of items."
     ]
    },
    {
     "cell_type": "code",
     "collapsed": false,
     "input": [
      "students = ['Pedro','Ernest','Pablo']\n",
      "\n",
      "#Let's print\n",
      "\n",
      "for student in students:\n",
      "    print('Hello, ' + student + '!')"
     ],
     "language": "python",
     "metadata": {},
     "outputs": [
      {
       "output_type": "stream",
       "stream": "stdout",
       "text": [
        "Hello, Pedro!\n",
        "Hello, Ernest!\n",
        "Hello, Pablo!\n"
       ]
      }
     ],
     "prompt_number": 1
    },
    {
     "cell_type": "heading",
     "level": 2,
     "metadata": {},
     "source": [
      "Example 2"
     ]
    },
    {
     "cell_type": "code",
     "collapsed": false,
     "input": [
      "students_id = [1,5,'A']\n",
      "\n",
      "#let's print\n",
      "\n",
      "for st_id in students_id:\n",
      "    print st_id"
     ],
     "language": "python",
     "metadata": {},
     "outputs": [
      {
       "output_type": "stream",
       "stream": "stdout",
       "text": [
        "1\n",
        "5\n",
        "A\n"
       ]
      }
     ],
     "prompt_number": 2
    },
    {
     "cell_type": "heading",
     "level": 2,
     "metadata": {},
     "source": [
      "Accessing items in a list"
     ]
    },
    {
     "cell_type": "code",
     "collapsed": false,
     "input": [
      "ids = [10,5,'b',9]\n",
      "\n",
      "#Let's access\n",
      "print(ids[0])\n",
      "print(ids[-1])\n",
      "print(ids[2])\n",
      "print(ids[0:2])"
     ],
     "language": "python",
     "metadata": {},
     "outputs": [
      {
       "output_type": "stream",
       "stream": "stdout",
       "text": [
        "10\n",
        "9\n",
        "b\n",
        "[10, 5]\n"
       ]
      }
     ],
     "prompt_number": 3
    },
    {
     "cell_type": "heading",
     "level": 2,
     "metadata": {},
     "source": [
      "Some gotchas"
     ]
    },
    {
     "cell_type": "code",
     "collapsed": false,
     "input": [
      "ids = [0,1,2,3,4]\n",
      "\n",
      "#Let's change an item\n",
      "ids[0] = 10\n",
      "print(ids)\n",
      "\n",
      "#Now let's cehck if 0 is in the list\n",
      "\n",
      "if 0 in ids:\n",
      "    print \"OK\"\n",
      "else:\n",
      "    print \"KO\"\n",
      "    \n",
      "#Now let's create a new ids\n",
      "ids_2 = ids\n",
      "\n",
      "ids_2[0] = 0\n",
      "if 0 in ids:\n",
      "    print \"OK, Upss you shouldn't be here!\"\n",
      "else:\n",
      "    print \"KO\""
     ],
     "language": "python",
     "metadata": {},
     "outputs": [
      {
       "output_type": "stream",
       "stream": "stdout",
       "text": [
        "[10, 1, 2, 3, 4]\n",
        "KO\n",
        "OK, Upss you shouldn't be here!\n"
       ]
      }
     ],
     "prompt_number": 4
    },
    {
     "cell_type": "heading",
     "level": 2,
     "metadata": {},
     "source": [
      "How to avoid this"
     ]
    },
    {
     "cell_type": "code",
     "collapsed": false,
     "input": [
      "ids = [0,1,2,3,4]\n",
      "\n",
      "#Let's change an item\n",
      "ids[0] = 10\n",
      "print(ids)\n",
      "\n",
      "#Now let's cehck if 0 is in the list\n",
      "\n",
      "if 0 in ids:\n",
      "    print \"OK\"\n",
      "else:\n",
      "    print \"KO\"\n",
      "    \n",
      "#Now let's create a new ids\n",
      "ids_2 = ids[:]\n",
      "\n",
      "ids_2[0] = 0\n",
      "if 0 in ids:\n",
      "    print \"OK, Upss you shouldn't be here!\"\n",
      "else:\n",
      "    print \"KO\""
     ],
     "language": "python",
     "metadata": {},
     "outputs": [
      {
       "output_type": "stream",
       "stream": "stdout",
       "text": [
        "[10, 1, 2, 3, 4]\n",
        "KO\n",
        "KO\n"
       ]
      }
     ],
     "prompt_number": 5
    },
    {
     "cell_type": "heading",
     "level": 2,
     "metadata": {},
     "source": [
      "Tuples"
     ]
    },
    {
     "cell_type": "markdown",
     "metadata": {},
     "source": [
      "A tuple is a list inmutable. Why? Sometimes we want to be sure that the user or other parts of the program does not change a list."
     ]
    },
    {
     "cell_type": "code",
     "collapsed": false,
     "input": [
      "colors = ('red','green','blue')\n",
      "\n",
      "print(\"The first color is \"+colors[0])\n",
      "\n",
      "for c in colors:\n",
      "    print(\"- \" + c)"
     ],
     "language": "python",
     "metadata": {},
     "outputs": []
    },
    {
     "cell_type": "code",
     "collapsed": false,
     "input": [
      "#Let's try to change a value\n",
      "\n",
      "colors[2] = 'pink'"
     ],
     "language": "python",
     "metadata": {},
     "outputs": [
      {
       "ename": "TypeError",
       "evalue": "'function' object does not support item assignment",
       "output_type": "pyerr",
       "traceback": [
        "\u001b[0;31m---------------------------------------------------------------------------\u001b[0m\n\u001b[0;31mTypeError\u001b[0m                                 Traceback (most recent call last)",
        "\u001b[0;32m<ipython-input-6-47c594cc086c>\u001b[0m in \u001b[0;36m<module>\u001b[0;34m()\u001b[0m\n\u001b[1;32m      1\u001b[0m \u001b[0;31m#Let's try to change a value\u001b[0m\u001b[0;34m\u001b[0m\u001b[0;34m\u001b[0m\u001b[0m\n\u001b[1;32m      2\u001b[0m \u001b[0;34m\u001b[0m\u001b[0m\n\u001b[0;32m----> 3\u001b[0;31m \u001b[0mcolors\u001b[0m\u001b[0;34m[\u001b[0m\u001b[0;36m2\u001b[0m\u001b[0;34m]\u001b[0m \u001b[0;34m=\u001b[0m \u001b[0;34m'pink'\u001b[0m\u001b[0;34m\u001b[0m\u001b[0m\n\u001b[0m",
        "\u001b[0;31mTypeError\u001b[0m: 'function' object does not support item assignment"
       ]
      }
     ],
     "prompt_number": 6
    },
    {
     "cell_type": "heading",
     "level": 2,
     "metadata": {},
     "source": [
      "Dictionary"
     ]
    },
    {
     "cell_type": "markdown",
     "metadata": {},
     "source": [
      "It is a structure that is indexign bay a key, similar to structures in c or in Matlab "
     ]
    },
    {
     "cell_type": "code",
     "collapsed": false,
     "input": [
      "grades = {'Pedro':7.5, 'Antonio':4.8, 'Juliana':6.5}\n",
      "\n",
      "print(grades['Pedro'])\n",
      "\n",
      "print(grades.keys())\n",
      "\n",
      "print('Pedro' in grades)"
     ],
     "language": "python",
     "metadata": {},
     "outputs": [
      {
       "output_type": "stream",
       "stream": "stdout",
       "text": [
        "7.5\n",
        "['Juliana', 'Pedro', 'Antonio']\n",
        "True\n"
       ]
      }
     ],
     "prompt_number": 7
    },
    {
     "cell_type": "markdown",
     "metadata": {},
     "source": [
      "There's a lot more to say about lists, tuples and dictionaries, look for help in *Saint Google*."
     ]
    },
    {
     "cell_type": "markdown",
     "metadata": {},
     "source": [
      "[Next: Lists, Tuples, and Dictionaries](http://127.0.0.1:8888/794f2802-fbae-4c5c-a7b7-78245c7c3cc4) | [Home](http://127.0.0.1:8888/824ab99d-5f09-4c64-8959-b65faa4939ea) | [Next: Numpy and Scipy](http://127.0.0.1:8888/3cd4bde9-700f-4bb2-96a8-36e39cbcd600)"
     ]
    },
    {
     "cell_type": "code",
     "collapsed": false,
     "input": [],
     "language": "python",
     "metadata": {},
     "outputs": []
    }
   ],
   "metadata": {}
  }
 ]
}